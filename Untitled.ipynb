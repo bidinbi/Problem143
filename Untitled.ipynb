{
 "cells": [
  {
   "cell_type": "code",
   "execution_count": 275,
   "metadata": {},
   "outputs": [],
   "source": [
    "import matplotlib.pyplot as plt \n",
    "%matplotlib inline"
   ]
  },
  {
   "cell_type": "code",
   "execution_count": 306,
   "metadata": {},
   "outputs": [
    {
     "name": "stdout",
     "output_type": "stream",
     "text": [
      "test5.png\n"
     ]
    }
   ],
   "source": [
    "a = input()"
   ]
  },
  {
   "cell_type": "code",
   "execution_count": 307,
   "metadata": {},
   "outputs": [],
   "source": [
    "import os, skimage\n",
    "filename = os.path.join(a)\n",
    "from skimage import io\n",
    "img = io.imread(filename)"
   ]
  },
  {
   "cell_type": "code",
   "execution_count": 308,
   "metadata": {},
   "outputs": [
    {
     "data": {
      "text/plain": [
       "<matplotlib.image.AxesImage at 0x23425973e08>"
      ]
     },
     "execution_count": 308,
     "metadata": {},
     "output_type": "execute_result"
    },
    {
     "data": {
      "image/png": "[encoded data removed]",
      "text/plain": [
       "<Figure size 432x288 with 1 Axes>"
      ]
     },
     "metadata": {
      "needs_background": "light"
     },
     "output_type": "display_data"
    }
   ],
   "source": [
    "plt.imshow(img)"
   ]
  },
  {
   "cell_type": "code",
   "execution_count": 309,
   "metadata": {},
   "outputs": [],
   "source": [
    "table = []"
   ]
  },
  {
   "cell_type": "code",
   "execution_count": 310,
   "metadata": {},
   "outputs": [
    {
     "name": "stdout",
     "output_type": "stream",
     "text": [
      "[-1, 0, 0, 1, 1, 1, -1, 0, -1]\n"
     ]
    }
   ],
   "source": [
    "for i in range(80, 433, 176):\n",
    "    if img[i][10][3] == 255:\n",
    "        table.append(0)\n",
    "    elif img[i][80][3] == 255:\n",
    "        table.append(1)\n",
    "    else:\n",
    "        table.append(-1)\n",
    "        \n",
    "    if img[i][186][3] == 255:\n",
    "        table.append(0)\n",
    "    elif img[i][256][3] == 255:\n",
    "        table.append(1)\n",
    "    else:\n",
    "        table.append(-1)\n",
    "        \n",
    "    if img[i][362][3] == 255:\n",
    "        table.append(0)\n",
    "    elif img[i][432][3] == 255:\n",
    "        table.append(1)\n",
    "    else:\n",
    "        table.append(-1)\n",
    "print(table)"
   ]
  },
  {
   "cell_type": "code",
   "execution_count": 311,
   "metadata": {},
   "outputs": [
    {
     "data": {
      "text/plain": [
       "<matplotlib.image.AxesImage at 0x23425a3b148>"
      ]
     },
     "execution_count": 311,
     "metadata": {},
     "output_type": "execute_result"
    },
    {
     "data": {
      "image/png": "[encoded data removed]",
      "text/plain": [
       "<Figure size 432x288 with 1 Axes>"
      ]
     },
     "metadata": {
      "needs_background": "light"
     },
     "output_type": "display_data"
    }
   ],
   "source": [
    "import copy\n",
    "img2 = copy.copy(img)\n",
    "plt.imshow(img2)"
   ]
  },
  {
   "cell_type": "code",
   "execution_count": 312,
   "metadata": {},
   "outputs": [],
   "source": [
    "def draw_win_line(num, napr, img):\n",
    "    if napr == 'hor':\n",
    "        if num == 1:\n",
    "            for i in range(70, 443):\n",
    "                for j in range(70, 91):\n",
    "                    img[j][i][3] = 255\n",
    "                    img[j][i][0] = 255\n",
    "                    \n",
    "        elif num == 2:\n",
    "            for i in range(70, 443):\n",
    "                for j in range(246, 267):\n",
    "                    img[j][i][3] = 255\n",
    "                    img[j][i][0] = 255\n",
    "        else:\n",
    "            for i in range(70, 443):\n",
    "                for j in range(422, 443):\n",
    "                    img[j][i][3] = 255\n",
    "                    img[j][i][0] = 255\n",
    "    elif napr == 'ver':\n",
    "        if num == 1:\n",
    "            for i in range(70, 443):\n",
    "                for j in range(70, 91):\n",
    "                    img[i][j][3] = 255\n",
    "                    img[i][j][0] = 255\n",
    "        elif num == 2:\n",
    "            for i in range(70, 443):\n",
    "                for j in range(246, 267):\n",
    "                    img[i][j][3] = 255\n",
    "                    img[i][j][0] = 255\n",
    "        else:\n",
    "            for i in range(70, 443):\n",
    "                for j in range(422, 443):\n",
    "                    img[i][j][3] = 255\n",
    "                    img[i][j][0] = 255\n",
    "    else:\n",
    "        if num == 1:\n",
    "            for i in range(70, 443):\n",
    "                for j in range(i, i+21):\n",
    "                    img[i][j][3] = 255\n",
    "                    img[i][j][0] = 255\n",
    "        else:\n",
    "            for i in range(70, 443):\n",
    "                for j in range(512-i, 512-i+21):\n",
    "                    img[i][j][3] = 255\n",
    "                    img[i][j][0] = 255\n",
    "            "
   ]
  },
  {
   "cell_type": "code",
   "execution_count": 313,
   "metadata": {},
   "outputs": [
    {
     "name": "stdout",
     "output_type": "stream",
     "text": [
      "2nd horizontal, x win\n"
     ]
    }
   ],
   "source": [
    "if table[0] == table[4] == table[8] and not table[0] == -1:\n",
    "    print('main diagonal,', (table[4]==1)*'x' + (table[4]==0)*'o', 'win')\n",
    "    draw_win_line(1,'diag', img2)\n",
    "elif table[2] == table[4] == table[6] and not table[2] == -1:\n",
    "    print('secondary diagonal,', (table[4]==1)*'x' + (table[4]==0)*'o', 'win')\n",
    "    draw_win_line(2,'diag', img2)\n",
    "elif table[0] == table[1] == table[2] and not table[0] == -1:\n",
    "    print('1st horizontal,', (table[4]==1)*'x' + (table[4]==0)*'o', 'win')\n",
    "    draw_win_line(1,'hor', img2)\n",
    "elif table[3] == table[4] == table[5] and not table[3] == -1:\n",
    "    print('2nd horizontal,', (table[4]==1)*'x' + (table[4]==0)*'o', 'win')\n",
    "    draw_win_line(2,'hor', img2)\n",
    "elif table[6] == table[7] == table[8] and not table[6] == -1:\n",
    "    print('3rd horizontal,', (table[4]==1)*'x' + (table[4]==0)*'o', 'win')\n",
    "    draw_win_line(3,'hor', img2)\n",
    "elif table[0] == table[3] == table[6] and not table[0] == -1:\n",
    "    print('1st vertical,', (table[4]==1)*'x' + (table[4]==0)*'o', 'win')\n",
    "    draw_win_line(1,'ver', img2)\n",
    "elif table[1] == table[4] == table[7] and not table[1] == -1:\n",
    "    print('2nd vertical,', (table[4]==1)*'x' + (table[4]==0)*'o', 'win')\n",
    "    draw_win_line(2,'ver', img2)\n",
    "elif table[2] == table[5] == table[8] and not table[2] == -1:\n",
    "    print('3rd vertical,', (table[4]==1)*'x' + (table[4]==0)*'o', 'win')\n",
    "    draw_win_line(3,'ver', img2)\n",
    "else:\n",
    "    print('No win')\n"
   ]
  },
  {
   "cell_type": "code",
   "execution_count": 314,
   "metadata": {},
   "outputs": [
    {
     "data": {
      "text/plain": [
       "<matplotlib.image.AxesImage at 0x23425b992c8>"
      ]
     },
     "execution_count": 314,
     "metadata": {},
     "output_type": "execute_result"
    },
    {
     "data": {
      "image/png": "[encoded data removed]",
      "text/plain": [
       "<Figure size 432x288 with 1 Axes>"
      ]
     },
     "metadata": {
      "needs_background": "light"
     },
     "output_type": "display_data"
    }
   ],
   "source": [
    "plt.imshow(img2)"
   ]
  },
  {
   "cell_type": "code",
   "execution_count": 315,
   "metadata": {},
   "outputs": [],
   "source": [
    "io.imsave(filename[:-4]+'_update.png', img2)"
   ]
  },
  {
   "cell_type": "code",
   "execution_count": null,
   "metadata": {},
   "outputs": [],
   "source": []
  }
 ],
 "metadata": {
  "kernelspec": {
   "display_name": "Python 3",
   "language": "python",
   "name": "python3"
  },
  "language_info": {
   "codemirror_mode": {
    "name": "ipython",
    "version": 3
   },
   "file_extension": ".py",
   "mimetype": "text/x-python",
   "name": "python",
   "nbconvert_exporter": "python",
   "pygments_lexer": "ipython3",
   "version": "3.7.6"
  }
 },
 "nbformat": 4,
 "nbformat_minor": 4
}
